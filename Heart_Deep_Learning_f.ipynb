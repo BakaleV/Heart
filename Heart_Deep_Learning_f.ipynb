{
 "cells": [
  {
   "cell_type": "code",
   "execution_count": 1,
   "id": "fb8aa979",
   "metadata": {},
   "outputs": [],
   "source": [
    "import numpy as np\n",
    "import tensorflow as tf"
   ]
  },
  {
   "cell_type": "code",
   "execution_count": 2,
   "id": "69e5b185",
   "metadata": {},
   "outputs": [
    {
     "name": "stdout",
     "output_type": "stream",
     "text": [
      "(728, 15)\n",
      "(91, 15)\n",
      "(728,)\n",
      "(91,)\n",
      "[[ 0.36746151 -0.1322286   0.37811796 ... -0.82587544  1.00220022\n",
      "  -0.87382257]\n",
      " [-1.75699829 -0.1322286   0.14152774 ... -0.82587544 -0.99780461\n",
      "   1.14439708]\n",
      " [-1.01343736 -0.67133265  0.22670022 ... -0.82587544 -0.99780461\n",
      "   1.14439708]\n",
      " ...\n",
      " [ 1.21724543  0.94597951  0.27401826 ... -0.82587544  1.00220022\n",
      "  -0.87382257]\n",
      " [-2.60678221 -0.67133265  0.44436321 ... -0.82587544 -0.99780461\n",
      "   1.14439708]\n",
      " [-0.5885454   0.29905464  0.16991857 ...  1.21083635  1.00220022\n",
      "  -0.87382257]]\n"
     ]
    }
   ],
   "source": [
    "file = np.load('Heart_data_train.npz')\n",
    "train_inputs_tf , train_targets_tf = file['inputs'].astype(float),file['targets'].astype(int)\n",
    "\n",
    "file = np.load('Heart_data_validation.npz')\n",
    "validation_inputs_tf , validation_targets_tf = file['inputs'].astype(float),file['targets'].astype(int)\n",
    "\n",
    "file = np.load('Heart_data_test.npz')\n",
    "test_inputs_tf , test_targets_tf = file['inputs'].astype(float),file['targets'].astype(int)\n",
    "#print(train_inputs_tf)\n",
    "print(train_inputs_tf.shape)\n",
    "print(validation_inputs_tf.shape)\n",
    "print(train_targets_tf.shape)\n",
    "print(validation_targets_tf.shape)\n",
    "print(train_inputs_tf)"
   ]
  },
  {
   "cell_type": "code",
   "execution_count": 15,
   "id": "18b98a92",
   "metadata": {},
   "outputs": [
    {
     "name": "stdout",
     "output_type": "stream",
     "text": [
      "Epoch 1/100\n",
      "73/73 - 0s - loss: 0.4659 - accuracy: 0.7830 - val_loss: 0.5414 - val_accuracy: 0.7692 - 406ms/epoch - 6ms/step\n",
      "Epoch 2/100\n",
      "73/73 - 0s - loss: 0.3023 - accuracy: 0.8929 - val_loss: 0.5078 - val_accuracy: 0.7912 - 75ms/epoch - 1ms/step\n",
      "Epoch 3/100\n",
      "73/73 - 0s - loss: 0.2721 - accuracy: 0.8997 - val_loss: 0.4950 - val_accuracy: 0.8022 - 75ms/epoch - 1ms/step\n",
      "Epoch 4/100\n",
      "73/73 - 0s - loss: 0.2542 - accuracy: 0.8997 - val_loss: 0.5441 - val_accuracy: 0.7912 - 75ms/epoch - 1ms/step\n",
      "Epoch 5/100\n",
      "73/73 - 0s - loss: 0.2358 - accuracy: 0.9052 - val_loss: 0.5231 - val_accuracy: 0.8022 - 75ms/epoch - 1ms/step\n",
      "Epoch 6/100\n",
      "73/73 - 0s - loss: 0.2119 - accuracy: 0.9190 - val_loss: 0.5428 - val_accuracy: 0.8022 - 75ms/epoch - 1ms/step\n"
     ]
    },
    {
     "data": {
      "text/plain": [
       "<keras.callbacks.History at 0x24c1ac22940>"
      ]
     },
     "execution_count": 15,
     "metadata": {},
     "output_type": "execute_result"
    }
   ],
   "source": [
    "#model\n",
    "from keras import regularizers\n",
    "input_size = 15\n",
    "output_size = 2\n",
    "hidden_layer_size = 50\n",
    "\n",
    "\n",
    "model = tf.keras.Sequential([\n",
    "                            tf.keras.layers.Dense(hidden_layer_size,activation = 'relu'),\n",
    "#tf.keras.layers.Dense(16, input_dim=15, kernel_initializer='normal', kernel_regularizer=regularizers.l2(0.001), activation='relu'),\n",
    "   # tf.keras.layers.Dropout(0.25),\n",
    "   # tf.keras.layers.Dense(8, kernel_initializer='normal', kernel_regularizer=regularizers.l2(0.001), activation='relu'),\n",
    "   # tf.keras.layers.Dropout(0.25),\n",
    "    #tf.keras.layers.Dense(2, activation='softmax')\n",
    "                            tf.keras.layers.Dense(hidden_layer_size,activation = 'relu'),\n",
    "                            tf.keras.layers.Dense(hidden_layer_size,activation = 'relu'),\n",
    "                           \n",
    "                            \n",
    "                            tf.keras.layers.Dense(output_size,activation = 'softmax')\n",
    "                            ])\n",
    "\n",
    "model.compile(optimizer = 'adam', loss = 'sparse_categorical_crossentropy',metrics = ['accuracy'])\n",
    "batch_size = 10\n",
    "max_epochs = 100\n",
    "early_stopping = tf.keras.callbacks.EarlyStopping(patience=3)\n",
    "\n",
    "model.fit(train_inputs_tf,\n",
    "          train_targets_tf,\n",
    "          batch_size = batch_size,\n",
    "          epochs = max_epochs,\n",
    "          callbacks = [early_stopping],\n",
    "          validation_data = (validation_inputs_tf , validation_targets_tf),\n",
    "          verbose = 2)"
   ]
  },
  {
   "cell_type": "code",
   "execution_count": 16,
   "id": "fe6ee301",
   "metadata": {},
   "outputs": [
    {
     "name": "stdout",
     "output_type": "stream",
     "text": [
      "3/3 [==============================] - 0s 2ms/step - loss: 0.4573 - accuracy: 0.8242\n"
     ]
    }
   ],
   "source": [
    "test_loss, test_accuracy = model.evaluate(test_inputs_tf, test_targets_tf)"
   ]
  },
  {
   "cell_type": "code",
   "execution_count": 17,
   "id": "f57e99e8",
   "metadata": {},
   "outputs": [
    {
     "name": "stdout",
     "output_type": "stream",
     "text": [
      "\n",
      "Test loss: 0.46. Test accuracy: 82.42%\n"
     ]
    }
   ],
   "source": [
    "print('\\nTest loss: {0:.2f}. Test accuracy: {1:.2f}%'.format(test_loss, test_accuracy*100.))"
   ]
  },
  {
   "cell_type": "code",
   "execution_count": null,
   "id": "c2c8052a",
   "metadata": {},
   "outputs": [],
   "source": []
  }
 ],
 "metadata": {
  "kernelspec": {
   "display_name": "Python 3 (ipykernel)",
   "language": "python",
   "name": "python3"
  },
  "language_info": {
   "codemirror_mode": {
    "name": "ipython",
    "version": 3
   },
   "file_extension": ".py",
   "mimetype": "text/x-python",
   "name": "python",
   "nbconvert_exporter": "python",
   "pygments_lexer": "ipython3",
   "version": "3.9.7"
  }
 },
 "nbformat": 4,
 "nbformat_minor": 5
}
